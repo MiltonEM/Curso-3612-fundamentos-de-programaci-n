{
  "nbformat": 4,
  "nbformat_minor": 0,
  "metadata": {
    "colab": {
      "provenance": []
    },
    "kernelspec": {
      "name": "python3",
      "display_name": "Python 3"
    },
    "language_info": {
      "name": "python"
    }
  },
  "cells": [
    {
      "cell_type": "markdown",
      "source": [],
      "metadata": {
        "id": "T2EDSRZTixP2"
      }
    },
    {
      "cell_type": "markdown",
      "source": [
        "**EJERCICIO 1**"
      ],
      "metadata": {
        "id": "P4FUpCwtiy-N"
      }
    },
    {
      "cell_type": "code",
      "execution_count": null,
      "metadata": {
        "id": "GpkvKoLWip-9"
      },
      "outputs": [],
      "source": [
        ".#Ingreso de valores\n",
        "print(\"DIGITE SUELDO BASE Y VALOR VENTAS:\")\n",
        "SueldoBase = float(input(\"Sueldo base: \"))\n",
        "Venta1 = float(input(\"Venta No 1: \"))\n",
        "Venta2 = float(input(\"Venta No 2: \"))\n",
        "Venta3 = float(input(\"Venta No 3: \"))\n",
        "\n",
        "#Cálculo de valores\n",
        "Comisiones = (Venta1+Venta2+Venta3)*0.10\n",
        "Ingresos = SueldoBase + Comisiones\n",
        "\n",
        "#Mostrar valores\n",
        "print(\"\\n\")\n",
        "print(\"INGRESOS MENSUALES: \")\n",
        "print(\"Comisiones = ´{:,.0f}\".format(Comisiones))\n",
        "print(\"Ingresos Totales = {:,.0f}\".format(Ingresos))\n",
        "print(\"\\n\")"
      ]
    },
    {
      "cell_type": "markdown",
      "source": [
        "**EJERCICIO 2**"
      ],
      "metadata": {
        "id": "5MlVFiCsoUVx"
      }
    },
    {
      "cell_type": "code",
      "source": [
        "#Ingreso de valores\n",
        "Compra = float(input(\"Valor compra = \"))\n",
        "PagoTotal = Compra*0.15 + Compra\n",
        "print(\"\\n\")\n",
        "print(\"Valor total a pagar = {:,.0f}\".format(PagoTotal))\n",
        "print(\"\\n\")"
      ],
      "metadata": {
        "id": "slK1tU6goY6R"
      },
      "execution_count": null,
      "outputs": []
    },
    {
      "cell_type": "markdown",
      "source": [
        "**EJERCICIO 4**"
      ],
      "metadata": {
        "id": "0TMfAy35rr7Q"
      }
    },
    {
      "cell_type": "code",
      "source": [
        "#Ingresar Valores\n",
        "Mujeres = float(input(\"Número de Mujeres = \"))\n",
        "Hombres = float(input(\"Número de Hombres = \"))\n",
        "\n",
        "#Calculo de valores\n",
        "TotalEst = Mujeres + Hombres\n",
        "Pmujeres = (Mujeres/TotalEst)*100\n",
        "Phombres = (Hombres/TotalEst)*100\n",
        "\n",
        "#Mostrar valores\n",
        "print(\"\\n\")\n",
        "print(\"El procentaje de mujeres es {:,.0f} y el de hombres es {:,.0f}\".format(Pmujeres,Phombres))"
      ],
      "metadata": {
        "id": "h_q2nyrirvfA"
      },
      "execution_count": null,
      "outputs": []
    }
  ]
}
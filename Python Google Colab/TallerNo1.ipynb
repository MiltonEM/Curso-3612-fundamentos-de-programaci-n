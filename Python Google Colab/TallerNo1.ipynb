{
  "nbformat": 4,
  "nbformat_minor": 0,
  "metadata": {
    "colab": {
      "provenance": []
    },
    "kernelspec": {
      "name": "python3",
      "display_name": "Python 3"
    },
    "language_info": {
      "name": "python"
    }
  },
  "cells": [
    {
      "cell_type": "code",
      "execution_count": null,
      "metadata": {
        "id": "ae7E7daipAJW"
      },
      "outputs": [],
      "source": [
        "# Solicita tipo y numero de documento\n",
        "print(\"Digite su tipo y número de documento\")\n",
        "TipoDocumento = input(\"Tipo de documento: \") \n",
        "NoIdentidad = input(\"No de Identificación: \")\n",
        "print(\"\\n\")\n",
        "#Solicita nombres y apellidos\n",
        "print(\"Digite sus nombres y apellidos\")\n",
        "Nombres = input(\"Nombres: \")\n",
        "Apellidos = input(\"Apellidos: \")\n",
        "print(\"\\n\")\n",
        "#Solicita dirección y teleéfono\n",
        "print(\"Digite su dirección y teléfono\")\n",
        "Direccion = input(\"Dirección: \")\n",
        "Telefono = input(\"Teléfono: \")\n",
        "print(\"\\n\")\n",
        "\n",
        "#Solicita edad y estatura\n",
        "print(\"Digite su edad y estatura\")\n",
        "Edad = input(\"Edad: \")\n",
        "Estatura = input(\"Estatura: \")\n",
        "print(\"\\n\")\n",
        "\n",
        "#Solicita estado civil y número de hijos\n",
        "print(\"Digite su estado civil y número de hijos\")\n",
        "EstadoCivil = input(\"Estado Civil: \")\n",
        "NoHijos = input(\"Numero de hijos: \")\n",
        "print(\"\\n\")\n",
        "\n",
        "#Solicita Fecha de contratación\n",
        "print(\"Digite su fecha de contratación\")\n",
        "DiaContrato = input(\"Día: \")\n",
        "MesContrato = input(\"Mes: \")\n",
        "AñoContrato = input(\"Año: \")\n",
        "print(\"\\n\")\n",
        "\n",
        "#Solicita sueldo y dias laborados\n",
        "print(\"Digite su sueldo y días laborados\")\n",
        "Sueldo = input(\"Sueldo: \")\n",
        "DiasLaborados = input(\"Dias laborados: \")\n",
        "print(\"\\n\")\n",
        "print(\"******************************************************\")\n",
        "print(\"\\n\")\n",
        "#Mostrar los datos obtenidos\n",
        "print(\"IDENTIFICACIÓN\")\n",
        "print(\"Tipo de documento: \" + TipoDocumento)\n",
        "print(\"Número de identificación: \" + NoIdentidad)\n",
        "print(\"\\n\")\n",
        "print(\"NOMBRES Y APELLIDOS\")\n",
        "print(\"Nombres: \" + Nombres)\n",
        "print(\"Apellidos: \" + Apellidos)\n",
        "print(\"\\n\")\n",
        "print(\"DATOS DE CONTACTO\")\n",
        "print(\"Dirección: \" + Direccion)\n",
        "print(\"Teléfono: \" + Telefono)\n",
        "print(\"\\n\")\n",
        "print(\"DATOS PERSONALES \")\n",
        "print(\"Edad: \" + Edad)\n",
        "print(\"Estatura: \" + Estatura)\n",
        "print(\"Estado civil: \" + EstadoCivil)\n",
        "print(\"Número de Hijos: \" + NoHijos)\n",
        "print(\"\\n\")\n",
        "print(\"INFORMACION LABORAL\")\n",
        "print(\"Sueldo: \" + Sueldo)\n",
        "print(\"Dias laborados: \" + DiasLaborados)\n",
        "slash = \"/\" #Variable para colocar el simbolo / de separación\n",
        "print(\"Su fecha de contatación es: \" +DiaContrato+slash+MesContrato+slash+AñoContrato)"
      ]
    }
  ]
}